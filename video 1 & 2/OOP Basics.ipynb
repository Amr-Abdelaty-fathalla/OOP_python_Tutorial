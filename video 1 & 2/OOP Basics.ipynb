{
 "cells": [
  {
   "cell_type": "markdown",
   "id": "92ce4ba0-595e-4c42-85b2-aa5a9dfe7ace",
   "metadata": {},
   "source": [
    "# <font color = 'blue'>**OOP**</font> \n",
    "- Is Coding Style or paradigm \n",
    "- Object : conatains some attributes[data] and methods[action] use those data to before specific task"
   ]
  },
  {
   "cell_type": "markdown",
   "id": "65ce3525-b737-4423-ba54-5476a500083a",
   "metadata": {},
   "source": [
    "### Why OOP?\n",
    "- Organize your code and make it readable and reusable"
   ]
  },
  {
   "cell_type": "markdown",
   "id": "ce7d3679-5ee5-436d-b0f2-cbe9c132d88a",
   "metadata": {},
   "source": [
    "### Everything in python is object \n",
    "\n",
    "- **Eg: If man is object**\n",
    "    - Attributes ==> Name, Age, Address, Phone number, Info\n",
    "    - Methods[Behaviors] ==> Walking, Eating, Singing, Playing\n",
    "\n",
    "- **Eg: If Car is object**\n",
    "    - Attributes ==> Model, color, price\n",
    "    - Methods[Behaviors] ==> Walking, Stopping"
   ]
  },
  {
   "cell_type": "markdown",
   "id": "f949afa8-e80e-471d-a297-381a128c1821",
   "metadata": {},
   "source": [
    "## **Class**\n",
    "- Class is template for creating objects[Object Constructor | Blueprint]\n",
    "- Class car can create many cars objects\n",
    "- Class user can create many users objects"
   ]
  },
  {
   "cell_type": "code",
   "execution_count": 2,
   "id": "6b8079c1-f6d2-4f7b-afdd-b63196515560",
   "metadata": {},
   "outputs": [],
   "source": [
    "# ----------------------------------------------------------\n",
    "# -- Object Oriented Programming => Class Syntax and Info --\n",
    "# ----------------------------------------------------------\n",
    "# [01] Class is The Blueprint Or Construtor Of The Object\n",
    "# [02] Class Instantiate Means Create Instance of A Class\n",
    "# [03] Instance => Object Created From Class And Have Their Methods and Attributes\n",
    "# [04] Class Defined With Keyword class\n",
    "# [05] Class Name Written With PascalCase [UpperCamelCase] Style\n",
    "# [06] Class May Contains Methods and Attributes\n",
    "# [07] When Creating Object, Python Look For The Built In __init__ (Initialize) Method\n",
    "# [08] __init__ Method Called Every Time You Create Object From Class\n",
    "# [09] __init__ Method Is Initialize The Data For The Object\n",
    "# [10] Any Method With Two Underscore in The Start and End Called Dunder or Magic Method\n",
    "# [11] self Refer To The Current Instance Created From The Class And Must Be First Param\n",
    "# [12] self Can Be Named Anything\n",
    "# [13] In Python You Dont Need To Call new() Keyword To Create Object\n",
    "# -------------------------------------------------------------------"
   ]
  },
  {
   "cell_type": "code",
   "execution_count": 3,
   "id": "5ad0b934-f35a-49f9-b9e4-cbd226a4978d",
   "metadata": {},
   "outputs": [],
   "source": [
    "# Syntax of creating Class\n",
    "# class Name:\n",
    "#     Constructor => Do Instantiation [ Create Instance From A Class ]\n",
    "#     Each Instance Is Separate Object\n",
    "#     def __init__(self, other_data)\n",
    "#         Body Of Function"
   ]
  },
  {
   "cell_type": "code",
   "execution_count": 5,
   "id": "1173e0c9-5f2b-4584-b825-2b33cf0bdfe0",
   "metadata": {},
   "outputs": [],
   "source": [
    "class Member:\n",
    "    # initialize lazm ykon feha argument \n",
    "    def __init__(self):\n",
    "        print('A new Member Has Been Added')"
   ]
  },
  {
   "cell_type": "code",
   "execution_count": 6,
   "id": "ed3fc673-017b-4dc9-9a36-f147e72cefa9",
   "metadata": {},
   "outputs": [
    {
     "name": "stdout",
     "output_type": "stream",
     "text": [
      "A new Member Has Been Added\n",
      "A new Member Has Been Added\n",
      "A new Member Has Been Added\n"
     ]
    },
    {
     "data": {
      "text/plain": [
       "<__main__.Member at 0x18f0c125b10>"
      ]
     },
     "execution_count": 6,
     "metadata": {},
     "output_type": "execute_result"
    }
   ],
   "source": [
    "# create different objects from class\n",
    "Member()\n",
    "Member()\n",
    "Member()"
   ]
  },
  {
   "cell_type": "code",
   "execution_count": 10,
   "id": "a25c0907-7955-42d5-b8c2-3e225c602c13",
   "metadata": {},
   "outputs": [
    {
     "name": "stdout",
     "output_type": "stream",
     "text": [
      "['__class__', '__delattr__', '__dict__', '__dir__', '__doc__', '__eq__', '__format__', '__ge__', '__getattribute__', '__getstate__', '__gt__', '__hash__', '__init__', '__init_subclass__', '__le__', '__lt__', '__module__', '__ne__', '__new__', '__reduce__', '__reduce_ex__', '__repr__', '__setattr__', '__sizeof__', '__str__', '__subclasshook__', '__weakref__']\n"
     ]
    }
   ],
   "source": [
    "# to know atrrs and methods inside this class\n",
    "print(dir(Member))"
   ]
  },
  {
   "cell_type": "markdown",
   "id": "6b58c23d-fcac-4bf2-9863-83eef77bcfff",
   "metadata": {},
   "source": [
    "- As we there are default methods in all classes we define, there is no attrs or new methods and it will be here when we design or initialize them in future"
   ]
  },
  {
   "cell_type": "code",
   "execution_count": 13,
   "id": "f497845c-bf2a-4bdb-ba7f-3b6d3825d116",
   "metadata": {},
   "outputs": [
    {
     "name": "stdout",
     "output_type": "stream",
     "text": [
      "['__add__', '__class__', '__contains__', '__delattr__', '__dir__', '__doc__', '__eq__', '__format__', '__ge__', '__getattribute__', '__getitem__', '__getnewargs__', '__getstate__', '__gt__', '__hash__', '__init__', '__init_subclass__', '__iter__', '__le__', '__len__', '__lt__', '__mod__', '__mul__', '__ne__', '__new__', '__reduce__', '__reduce_ex__', '__repr__', '__rmod__', '__rmul__', '__setattr__', '__sizeof__', '__str__', '__subclasshook__', 'capitalize', 'casefold', 'center', 'count', 'encode', 'endswith', 'expandtabs', 'find', 'format', 'format_map', 'index', 'isalnum', 'isalpha', 'isascii', 'isdecimal', 'isdigit', 'isidentifier', 'islower', 'isnumeric', 'isprintable', 'isspace', 'istitle', 'isupper', 'join', 'ljust', 'lower', 'lstrip', 'maketrans', 'partition', 'removeprefix', 'removesuffix', 'replace', 'rfind', 'rindex', 'rjust', 'rpartition', 'rsplit', 'rstrip', 'split', 'splitlines', 'startswith', 'strip', 'swapcase', 'title', 'translate', 'upper', 'zfill']\n"
     ]
    }
   ],
   "source": [
    "# let see methods and attrs of built in class like str\n",
    "print(dir(str))"
   ]
  },
  {
   "cell_type": "code",
   "execution_count": 14,
   "id": "a5af5af5-82fa-4ef5-a926-39777efba1d3",
   "metadata": {},
   "outputs": [
    {
     "name": "stdout",
     "output_type": "stream",
     "text": [
      "A new Member Has Been Added\n",
      "A new Member Has Been Added\n",
      "A new Member Has Been Added\n"
     ]
    }
   ],
   "source": [
    "Member_one = Member()\n",
    "Member_two = Member()\n",
    "Member_three = Member()"
   ]
  },
  {
   "cell_type": "code",
   "execution_count": 16,
   "id": "c179b82c-06d8-4c23-8a4f-dc97d39e5750",
   "metadata": {},
   "outputs": [
    {
     "name": "stdout",
     "output_type": "stream",
     "text": [
      "<class '__main__.Member'>\n"
     ]
    }
   ],
   "source": [
    "# to know data inside our object belong to any class?\n",
    "print(Member_one.__class__)"
   ]
  },
  {
   "cell_type": "code",
   "execution_count": 17,
   "id": "b2bd1a09-08b9-4d2a-8d07-6a3913b794f0",
   "metadata": {},
   "outputs": [],
   "source": [
    "# we can't make calculation inside dict \n",
    "my_dictionary = {\n",
    "  'name': \"Osama\",\n",
    "  'age': 36,\n",
    "  'monthly_salary': 5000,\n",
    "  'yearly_salary': ''  # Something\n",
    "}"
   ]
  }
 ],
 "metadata": {
  "kernelspec": {
   "display_name": "Python 3 (ipykernel)",
   "language": "python",
   "name": "python3"
  },
  "language_info": {
   "codemirror_mode": {
    "name": "ipython",
    "version": 3
   },
   "file_extension": ".py",
   "mimetype": "text/x-python",
   "name": "python",
   "nbconvert_exporter": "python",
   "pygments_lexer": "ipython3",
   "version": "3.11.7"
  }
 },
 "nbformat": 4,
 "nbformat_minor": 5
}
