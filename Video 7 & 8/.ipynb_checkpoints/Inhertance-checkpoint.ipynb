{
 "cells": [
  {
   "cell_type": "code",
   "execution_count": 1,
   "id": "e8f00dcc-e630-418c-93e5-e239db0eece4",
   "metadata": {},
   "outputs": [],
   "source": [
    "# ------------------------------------------------\n",
    "# -- Object Oriented Programming => Inheritance --\n",
    "# ------------------------------------------------"
   ]
  },
  {
   "cell_type": "markdown",
   "id": "db317931-b871-46f7-980e-5908cd4ae4d7",
   "metadata": {},
   "source": [
    "### **Inhertance Method**"
   ]
  },
  {
   "cell_type": "code",
   "execution_count": 2,
   "id": "5619eb98-5795-449e-ab72-967c4ec165a6",
   "metadata": {},
   "outputs": [
    {
     "name": "stdout",
     "output_type": "stream",
     "text": [
      "Food Is Created From Base Class\n",
      "Apple Is Created From Derived Class\n",
      "Eat Method From Base Class\n"
     ]
    }
   ],
   "source": [
    "# Base Class\n",
    "class Food:\n",
    "\n",
    "    def __init__(self):\n",
    "        print('Food Is Created From Base Class')\n",
    "\n",
    "    def eat(self):\n",
    "        print('Eat Method From Base Class')\n",
    "\n",
    "# Derived Class\n",
    "class Apple(Food):\n",
    "    def __init__(self):\n",
    "        print('Apple Is Created From Derived Class')\n",
    "\n",
    "food_one = Food()\n",
    "food_two = Apple()\n",
    "food_two.eat()"
   ]
  },
  {
   "cell_type": "markdown",
   "id": "02a5f3ac-3edf-43ba-8898-7ec075f2fdf1",
   "metadata": {},
   "source": [
    "### **Inhert Attrs**\n",
    "- Inhert Attrs: we are overwrite on the Attrs in Base Class"
   ]
  },
  {
   "cell_type": "code",
   "execution_count": 8,
   "id": "a7702c6b-1cd4-4936-83d3-71e8a500f5b9",
   "metadata": {},
   "outputs": [
    {
     "name": "stdout",
     "output_type": "stream",
     "text": [
      "Pizza Is Created From Base Class\n",
      "Pizza Is Created From Derived Class\n"
     ]
    }
   ],
   "source": [
    "# Base Class\n",
    "class Food:\n",
    "\n",
    "    def __init__(self, name):\n",
    "        self.name = name\n",
    "        print(f'{self.name} Is Created From Base Class')\n",
    "\n",
    "    def eat(self):\n",
    "        print('Eat Method From Base Class')\n",
    "\n",
    "# Derived Class\n",
    "class Apple(Food):\n",
    "    def __init__(self, name):\n",
    "        self.name = name\n",
    "        print(f'{self.name} Is Created From Derived Class')\n",
    "\n",
    "food_one = Food('Pizza')\n",
    "food_two = Apple('Pizza')\n",
    "# food_two.eat()"
   ]
  },
  {
   "cell_type": "markdown",
   "id": "89c961d9-de9a-4047-b370-bbd218ccfc9b",
   "metadata": {},
   "source": [
    "### **Inhert Attrs of Base Class Without make Derived Class overwrite on them**"
   ]
  },
  {
   "cell_type": "code",
   "execution_count": 37,
   "id": "62851a5b-b2c0-4a19-a5b3-e051e7f7b6ab",
   "metadata": {},
   "outputs": [
    {
     "name": "stdout",
     "output_type": "stream",
     "text": [
      "Pizza Is Created From Base Class\n",
      "Pizza Is Created From Base Class\n",
      "Pizza Is Created From Derived Class\n"
     ]
    }
   ],
   "source": [
    "# Base Class\n",
    "class Food:\n",
    "\n",
    "    def __init__(self, name):\n",
    "        self.name = name\n",
    "        print(f'{self.name} Is Created From Base Class')\n",
    "\n",
    "    def eat(self):\n",
    "        print('Eat Method From Base Class')\n",
    "\n",
    "# Derived Class\n",
    "class Apple(Food):\n",
    "    def __init__(self, name):\n",
    "        Food.__init__(self,name) # Create Instance From Base Class\n",
    "        print(f'{self.name} Is Created From Derived Class')\n",
    "\n",
    "food_one = Food('Pizza')\n",
    "food_two = Apple('Pizza')\n",
    "# food_two.eat()"
   ]
  },
  {
   "cell_type": "code",
   "execution_count": 10,
   "id": "732068cc-df9c-45f7-9548-67cbc06d56b0",
   "metadata": {},
   "outputs": [
    {
     "name": "stdout",
     "output_type": "stream",
     "text": [
      "Pizza Is Created From Base Class\n",
      "Pizza Is Created From Base Class\n",
      "Pizza Is Created From Derived Class\n"
     ]
    }
   ],
   "source": [
    "### if i want to do same thing but i want while i inhert attrs i don't want to mention class i inhert from it\n",
    "# Base Class\n",
    "class Food:\n",
    "\n",
    "    def __init__(self, name):\n",
    "        self.name = name\n",
    "        print(f'{self.name} Is Created From Base Class')\n",
    "\n",
    "    def eat(self):\n",
    "        print('Eat Method From Base Class')\n",
    "\n",
    "# Derived Class\n",
    "class Apple(Food):\n",
    "    def __init__(self, name):\n",
    "        super().__init__(name)\n",
    "        print(f'{self.name} Is Created From Derived Class')\n",
    "\n",
    "food_one = Food('Pizza')\n",
    "food_two = Apple('Pizza')\n",
    "# food_two.eat()"
   ]
  },
  {
   "cell_type": "code",
   "execution_count": 12,
   "id": "a6837cc3-4bb9-4ce8-8bda-ec527a248e81",
   "metadata": {},
   "outputs": [
    {
     "name": "stdout",
     "output_type": "stream",
     "text": [
      "Pizza Is Created From Base Class\n",
      "Pizza Is Created From Derived Class And Price Is 200$\n"
     ]
    }
   ],
   "source": [
    "# Base Class\n",
    "class Food:\n",
    "    def __init__(self, name, price):\n",
    "        self.name = name\n",
    "        self.price = price\n",
    "        print(f'{self.name} Is Created From Base Class')\n",
    "\n",
    "        def eat(self):\n",
    "            print('Eat Method From Base Class')\n",
    "\n",
    "# Derived Class\n",
    "class Apple(Food):\n",
    "     def __init__(self, name, price):\n",
    "         Food.__init__(self, name, price)\n",
    "         print(f'{self.name} Is Created From Derived Class And Price Is {self.price}')\n",
    "\n",
    "food_two = Apple('Pizza', '200$')"
   ]
  },
  {
   "cell_type": "markdown",
   "id": "46d71ff0-9613-4581-ac8e-dfb8dc6c5635",
   "metadata": {},
   "source": [
    "### **If we have in child another Attr and method not In Parent**"
   ]
  },
  {
   "cell_type": "code",
   "execution_count": 16,
   "id": "70a47560-a9c7-4f72-8d2f-35ab8e3f0634",
   "metadata": {},
   "outputs": [
    {
     "name": "stdout",
     "output_type": "stream",
     "text": [
      "Pizza Is Created From Base Class\n",
      "Pizza Is Created From Derived Class And Price Is 200 And Amount Is 50\n",
      "Eat Method From Base Class\n",
      "Get From Tree From Derived Class\n"
     ]
    }
   ],
   "source": [
    "# Base Class\n",
    "class Food:\n",
    "    def __init__(self, name, price):\n",
    "        self.name = name\n",
    "        self.price = price\n",
    "        print(f'{self.name} Is Created From Base Class')\n",
    "\n",
    "    def eat(self):\n",
    "        print('Eat Method From Base Class')\n",
    "\n",
    "# Derived Class\n",
    "class Apple(Food):\n",
    "     def __init__(self, name, price, amount):\n",
    "         Food.__init__(self, name, price)\n",
    "         self.amount = amount\n",
    "         print(f'{self.name} Is Created From Derived Class And Price Is {self.price} And Amount Is {self.amount}')\n",
    "\n",
    "     def get_from_tree(self):\n",
    "         print('Get From Tree From Derived Class')\n",
    "\n",
    "food_two = Apple('Pizza', 200, 50)\n",
    "food_two.eat()\n",
    "food_two.get_from_tree()"
   ]
  }
 ],
 "metadata": {
  "kernelspec": {
   "display_name": "Python 3 (ipykernel)",
   "language": "python",
   "name": "python3"
  },
  "language_info": {
   "codemirror_mode": {
    "name": "ipython",
    "version": 3
   },
   "file_extension": ".py",
   "mimetype": "text/x-python",
   "name": "python",
   "nbconvert_exporter": "python",
   "pygments_lexer": "ipython3",
   "version": "3.11.7"
  }
 },
 "nbformat": 4,
 "nbformat_minor": 5
}
