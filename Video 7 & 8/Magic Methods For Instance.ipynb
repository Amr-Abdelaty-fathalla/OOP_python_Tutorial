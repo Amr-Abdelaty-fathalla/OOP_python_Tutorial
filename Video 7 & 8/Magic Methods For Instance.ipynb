{
 "cells": [
  {
   "cell_type": "code",
   "execution_count": 1,
   "id": "512599e2-fefe-442c-81bd-471b7b84de6c",
   "metadata": {},
   "outputs": [],
   "source": [
    "# --------------------------------------------------\n",
    "# -- Object Oriented Programming => Magic Methods --\n",
    "# --------------------------------------------------\n",
    "# Everything in Python is An Object\n",
    "# __init__  Called Automatically When Instantiating Class\n",
    "# self.__class__ The class to which a class instance belongs\n",
    "# __str__   Gives a Human-Readable Output of the Object\n",
    "# __len__   Returns the Length of the Container\n",
    "#           Called When We Use the Built-in len() Function on the Object\n",
    "# ------------------------------------------------------"
   ]
  },
  {
   "cell_type": "code",
   "execution_count": 7,
   "id": "e007f3e3-f2ad-4529-a323-d83359cb3629",
   "metadata": {},
   "outputs": [
    {
     "name": "stdout",
     "output_type": "stream",
     "text": [
      "<__main__.Skill object at 0x000001F5EE1F71D0>\n",
      "<class '__main__.Skill'>\n"
     ]
    },
    {
     "ename": "TypeError",
     "evalue": "object of type 'Skill' has no len()",
     "output_type": "error",
     "traceback": [
      "\u001b[1;31m---------------------------------------------------------------------------\u001b[0m",
      "\u001b[1;31mTypeError\u001b[0m                                 Traceback (most recent call last)",
      "Cell \u001b[1;32mIn[7], line 10\u001b[0m\n\u001b[0;32m      8\u001b[0m \u001b[38;5;28mprint\u001b[39m(profile)\n\u001b[0;32m      9\u001b[0m \u001b[38;5;28mprint\u001b[39m(profile\u001b[38;5;241m.\u001b[39m\u001b[38;5;18m__class__\u001b[39m)\n\u001b[1;32m---> 10\u001b[0m \u001b[38;5;28mprint\u001b[39m(\u001b[38;5;28mlen\u001b[39m(profile))\n",
      "\u001b[1;31mTypeError\u001b[0m: object of type 'Skill' has no len()"
     ]
    }
   ],
   "source": [
    "class Skill:\n",
    "\n",
    "    def __init__(self):\n",
    "        self.skills = ['Html', 'Css', 'Js']\n",
    "\n",
    "\n",
    "profile = Skill()\n",
    "print(profile)\n",
    "print(profile.__class__)\n",
    "print(len(profile))"
   ]
  },
  {
   "cell_type": "code",
   "execution_count": 3,
   "id": "6c901559-e868-4b9b-a124-d0a958859928",
   "metadata": {},
   "outputs": [
    {
     "name": "stdout",
     "output_type": "stream",
     "text": [
      "This Is My Skills ==> ['Html', 'Css', 'Js']\n",
      "<class '__main__.Skill'>\n",
      "3\n"
     ]
    }
   ],
   "source": [
    "class Skill:\n",
    "\n",
    "    def __init__(self):\n",
    "        self.skills = ['Html', 'Css', 'Js']\n",
    "\n",
    "    def __str__(self):\n",
    "        return f'This Is My Skills ==> {self.skills}'\n",
    "\n",
    "    def __len__(self):\n",
    "        return len(self.skills)\n",
    "\n",
    "profile = Skill()\n",
    "print(profile)\n",
    "print(profile.__class__)\n",
    "print(len(profile))"
   ]
  },
  {
   "cell_type": "code",
   "execution_count": 4,
   "id": "cc0a1daf-85e2-4cd4-baa8-7c88feebdf6a",
   "metadata": {},
   "outputs": [
    {
     "name": "stdout",
     "output_type": "stream",
     "text": [
      "<class 'str'>\n",
      "<class 'str'>\n",
      "['__add__', '__class__', '__contains__', '__delattr__', '__dir__', '__doc__', '__eq__', '__format__', '__ge__', '__getattribute__', '__getitem__', '__getnewargs__', '__getstate__', '__gt__', '__hash__', '__init__', '__init_subclass__', '__iter__', '__le__', '__len__', '__lt__', '__mod__', '__mul__', '__ne__', '__new__', '__reduce__', '__reduce_ex__', '__repr__', '__rmod__', '__rmul__', '__setattr__', '__sizeof__', '__str__', '__subclasshook__', 'capitalize', 'casefold', 'center', 'count', 'encode', 'endswith', 'expandtabs', 'find', 'format', 'format_map', 'index', 'isalnum', 'isalpha', 'isascii', 'isdecimal', 'isdigit', 'isidentifier', 'islower', 'isnumeric', 'isprintable', 'isspace', 'istitle', 'isupper', 'join', 'ljust', 'lower', 'lstrip', 'maketrans', 'partition', 'removeprefix', 'removesuffix', 'replace', 'rfind', 'rindex', 'rjust', 'rpartition', 'rsplit', 'rstrip', 'split', 'splitlines', 'startswith', 'strip', 'swapcase', 'title', 'translate', 'upper', 'zfill']\n"
     ]
    }
   ],
   "source": [
    "my_string = 'Amr'\n",
    "print(type(my_string))\n",
    "print(my_string.__class__)\n",
    "print(dir(str))"
   ]
  },
  {
   "cell_type": "code",
   "execution_count": 5,
   "id": "5f69a48f-dfd0-49a4-99ff-3706a1f7ab2c",
   "metadata": {},
   "outputs": [
    {
     "name": "stdout",
     "output_type": "stream",
     "text": [
      "AMR\n"
     ]
    }
   ],
   "source": [
    "# print (member_one.fullname())\n",
    "# print (Member.fullname(member_one))\n",
    "print(str.upper(my_string))"
   ]
  },
  {
   "cell_type": "code",
   "execution_count": 6,
   "id": "6c2bfac0-4cbf-4a59-a711-9cd7110cf032",
   "metadata": {},
   "outputs": [
    {
     "name": "stdout",
     "output_type": "stream",
     "text": [
      "3\n",
      "5\n"
     ]
    }
   ],
   "source": [
    "# if i want to append values in my object attrs and see the len after adding\n",
    "print(len(profile)) \n",
    "\n",
    "profile.skills.append('PHP')\n",
    "profile.skills.append('MySQL')\n",
    "\n",
    "print(len(profile))"
   ]
  }
 ],
 "metadata": {
  "kernelspec": {
   "display_name": "Python 3 (ipykernel)",
   "language": "python",
   "name": "python3"
  },
  "language_info": {
   "codemirror_mode": {
    "name": "ipython",
    "version": 3
   },
   "file_extension": ".py",
   "mimetype": "text/x-python",
   "name": "python",
   "nbconvert_exporter": "python",
   "pygments_lexer": "ipython3",
   "version": "3.11.7"
  }
 },
 "nbformat": 4,
 "nbformat_minor": 5
}
