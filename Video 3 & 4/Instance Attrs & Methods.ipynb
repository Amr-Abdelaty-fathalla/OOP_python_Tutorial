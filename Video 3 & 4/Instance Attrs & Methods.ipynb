{
 "cells": [
  {
   "cell_type": "code",
   "execution_count": 1,
   "id": "8eb4630c-7fa8-4c29-b545-02c97a94a3ea",
   "metadata": {},
   "outputs": [],
   "source": [
    "# --------------------------------------------------------------------\n",
    "# -- Object Oriented Programming => Instance Attributes and Methods --\n",
    "# --------------------------------------------------------------------\n",
    "# Self: Point To Instance Created From Class\n",
    "# Instance Attributes: Instance Attributes Defined Inside The Constructor\n",
    "# -----------------------------------------------------------------------\n",
    "# Instance Methods: Take Self Parameter Which Point To Instance Created From Class\n",
    "# Instance Methods Can Have More Than One Parameter Like Any Function\n",
    "# Instance Methods Can Freely Access Attributes And Methods On The Same Object\n",
    "# Instance Methods Can Access The Class Itself\n",
    "# -----------------------------------------------------------"
   ]
  },
  {
   "cell_type": "code",
   "execution_count": 19,
   "id": "4dcf2203-4d32-4343-9154-02fa4c7e5ef2",
   "metadata": {},
   "outputs": [
    {
     "name": "stdout",
     "output_type": "stream",
     "text": [
      "['__class__', '__delattr__', '__dict__', '__dir__', '__doc__', '__eq__', '__format__', '__ge__', '__getattribute__', '__getstate__', '__gt__', '__hash__', '__init__', '__init_subclass__', '__le__', '__lt__', '__module__', '__ne__', '__new__', '__reduce__', '__reduce_ex__', '__repr__', '__setattr__', '__sizeof__', '__str__', '__subclasshook__', '__weakref__', 'name']\n",
      "**********************************************************************\n",
      "['__class__', '__delattr__', '__dict__', '__dir__', '__doc__', '__eq__', '__format__', '__ge__', '__getattribute__', '__getstate__', '__gt__', '__hash__', '__init__', '__init_subclass__', '__le__', '__lt__', '__module__', '__ne__', '__new__', '__reduce__', '__reduce_ex__', '__repr__', '__setattr__', '__sizeof__', '__str__', '__subclasshook__', '__weakref__']\n"
     ]
    }
   ],
   "source": [
    "# ATTRS of Instance\n",
    "class Member:\n",
    "    def __init__(self):\n",
    "        self.name = 'Amr'\n",
    "\n",
    "member_one  = Member()\n",
    "member_two  = Member()\n",
    "member_three  = Member()\n",
    "\n",
    "print(dir(member_one))\n",
    "\n",
    "print('*' * 70)\n",
    "\n",
    "print(dir(Member))"
   ]
  },
  {
   "cell_type": "code",
   "execution_count": 9,
   "id": "8322dc75-1f00-434c-ab85-b986e69acf2d",
   "metadata": {},
   "outputs": [
    {
     "name": "stdout",
     "output_type": "stream",
     "text": [
      "Amr\n",
      "Amr\n",
      "Amr\n"
     ]
    }
   ],
   "source": [
    "# how to access attrs to get value\n",
    "print(member_one.name)\n",
    "print(member_two.name)\n",
    "print(member_three.name)"
   ]
  },
  {
   "cell_type": "code",
   "execution_count": 18,
   "id": "a4746485-4e74-4b1f-a140-2840c03d0304",
   "metadata": {},
   "outputs": [
    {
     "name": "stdout",
     "output_type": "stream",
     "text": [
      "Amr Abdelaty Fathallah\n",
      "ALI Ahmed Mohamed\n",
      "JETT abdel8afour el bora3y\n"
     ]
    }
   ],
   "source": [
    "# i want when i create new member should hase name \n",
    "class Member:\n",
    "    def __init__(self, first_name, middle_name, last_name):\n",
    "        self.fname = first_name\n",
    "        self.mname = middle_name\n",
    "        self.lname = last_name\n",
    "        \n",
    "member_one = Member('Amr','Abdelaty','Fathallah')\n",
    "member_two = Member('ALI','Ahmed','Mohamed')\n",
    "member_three = Member('JETT','abdel8afour','el bora3y')\n",
    "\n",
    "print(member_one.fname, member_one.mname, member_one.lname)\n",
    "print(member_two.fname, member_two.mname, member_two.lname)\n",
    "print(member_three.fname, member_three.mname, member_three.lname)"
   ]
  },
  {
   "cell_type": "markdown",
   "id": "c6401619-8853-4877-9548-935e357159ed",
   "metadata": {},
   "source": [
    "---------------------------------------------------------"
   ]
  },
  {
   "cell_type": "code",
   "execution_count": 36,
   "id": "ff57993f-d27f-454e-a09a-04b85442b0eb",
   "metadata": {},
   "outputs": [
    {
     "name": "stdout",
     "output_type": "stream",
     "text": [
      "JETT abdel8afour el bora3y\n",
      "Hello Mrs.JETT\n",
      "Hello Mrs.JETT, Your Full Name Is: JETT abdel8afour el bora3y\n"
     ]
    }
   ],
   "source": [
    "# Methods of Instance\n",
    "class Member:\n",
    "    def __init__(self, first_name, middle_name, last_name, gender):\n",
    "\n",
    "        self.fname = first_name\n",
    "        self.mname = middle_name\n",
    "        self.lname = last_name\n",
    "        self.gender = gender\n",
    "\n",
    "    def get_full_name(self):\n",
    "        return f'{self.fname} {self.mname} {self.lname}'\n",
    "\n",
    "    def greeting_consider_gender(self):\n",
    "        if self.gender == 'Male':\n",
    "            return f'Hello Mr.{self.fname}'\n",
    "        elif self.gender == 'Female':\n",
    "            return f'Hello Mrs.{self.fname}'\n",
    "        else:\n",
    "            return f'Hello {self.fname}'\n",
    "\n",
    "    # Instance Method Access Instance attrs and methods\n",
    "    def get_all_info(self):\n",
    "      return f'{self.greeting_consider_gender()}, Your Full Name Is: {self.get_full_name()}'  \n",
    "            \n",
    "member_one = Member('Amr','Abdelaty','Fathallah', 'Male')\n",
    "member_two = Member('ALI','Ahmed','Mohamed', 'Male')\n",
    "member_three = Member('JETT','abdel8afour','el bora3y', 'Female')\n",
    "\n",
    "print(member_three.get_full_name())\n",
    "print(member_three.greeting_consider_gender())\n",
    "print(member_three.get_all_info())"
   ]
  }
 ],
 "metadata": {
  "kernelspec": {
   "display_name": "Python 3 (ipykernel)",
   "language": "python",
   "name": "python3"
  },
  "language_info": {
   "codemirror_mode": {
    "name": "ipython",
    "version": 3
   },
   "file_extension": ".py",
   "mimetype": "text/x-python",
   "name": "python",
   "nbconvert_exporter": "python",
   "pygments_lexer": "ipython3",
   "version": "3.11.7"
  }
 },
 "nbformat": 4,
 "nbformat_minor": 5
}
