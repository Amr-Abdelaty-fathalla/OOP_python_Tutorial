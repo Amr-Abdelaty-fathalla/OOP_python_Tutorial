{
 "cells": [
  {
   "cell_type": "code",
   "execution_count": 1,
   "id": "35c76010-5510-418a-8c6d-d0020867b778",
   "metadata": {},
   "outputs": [],
   "source": [
    "# -----------------------------------------------------\n",
    "# -- Object Oriented Programming => Class Attributes --\n",
    "# -----------------------------------------------------\n",
    "# Class Attributes: Attributes Defined Outside The Constructor\n",
    "# -----------------------------------------------------------"
   ]
  },
  {
   "cell_type": "code",
   "execution_count": 2,
   "id": "00dab18f-b613-4174-8cc1-e02de522ee0f",
   "metadata": {},
   "outputs": [
    {
     "name": "stdout",
     "output_type": "stream",
     "text": [
      "0\n",
      "4\n",
      "User Hell Is Removed.\n",
      "3\n"
     ]
    }
   ],
   "source": [
    "class Member:\n",
    "\n",
    "    # Class Attrs\n",
    "    # we will create class attr for not allowed names\n",
    "    not_allowed_names = ['Hell','Shit','Baloot']\n",
    "\n",
    "    # Users Count\n",
    "    users_num = 0\n",
    "    \n",
    "    def __init__ (self, first_name, middle_name, last_name,gender):\n",
    "        # Instance Attrs\n",
    "        self.fname = first_name \n",
    "        self.mname = middle_name\n",
    "        self.lname = last_name\n",
    "        self.gender = gender\n",
    "\n",
    "        # Every time you create object aamake users num inc by one\n",
    "        Member.users_num += 1\n",
    "\n",
    "    def get_full_name(self):\n",
    "        # to access class attrs we should \n",
    "        if self.fname not in Member.not_allowed_names:\n",
    "            return f'{self.fname} {self.mname} {self.lname}'\n",
    "        else:\n",
    "            raise ValueError('Name Not Allowed')\n",
    "\n",
    "    def greeting_consider_gender(self):\n",
    "        if self.gender == 'Male':\n",
    "            return f'Hello Mr.{self.fname}'\n",
    "        elif self.gender == 'Female':\n",
    "            return f'Hello Mrs.{self.fname}'\n",
    "        else:\n",
    "            return f'Hello {self.fname}'\n",
    "\n",
    "    # Instance Method Access Instance attrs and methods\n",
    "    def get_all_info(self):\n",
    "      return f'{self.greeting_consider_gender()}, Your Full Name Is: {self.get_full_name()}'\n",
    "\n",
    "    def remove_user(self):\n",
    "        Member.users_num -= 1\n",
    "        return f'User {self.fname} Is Removed.'\n",
    "        \n",
    "            \n",
    "# No of users before\n",
    "print(Member.users_num)\n",
    "\n",
    "member_one = Member('Amr','Abdelaty','Fathallah', 'Male')\n",
    "member_two = Member('ALI','Ahmed','Mohamed', 'Male')\n",
    "member_three = Member('JETT','abdel8afour','el bora3y', 'Female')\n",
    "member_four = Member('Hell','Shit','el bora3y', 'Male')\n",
    "\n",
    "print(Member.users_num)\n",
    "\n",
    "# print(member_three.get_full_name())\n",
    "# print(member_three.greeting_consider_gender())\n",
    "# print(member_three.get_all_info())\n",
    "# print(member_four.get_all_info())\n",
    "print(member_four.remove_user())\n",
    "\n",
    "print(Member.users_num)"
   ]
  },
  {
   "cell_type": "code",
   "execution_count": 3,
   "id": "7b3b5166-6c62-4be2-9236-f0c7af6cf3c2",
   "metadata": {},
   "outputs": [
    {
     "name": "stdout",
     "output_type": "stream",
     "text": [
      "['__class__', '__delattr__', '__dict__', '__dir__', '__doc__', '__eq__', '__format__', '__ge__', '__getattribute__', '__getstate__', '__gt__', '__hash__', '__init__', '__init_subclass__', '__le__', '__lt__', '__module__', '__ne__', '__new__', '__reduce__', '__reduce_ex__', '__repr__', '__setattr__', '__sizeof__', '__str__', '__subclasshook__', '__weakref__', 'fname', 'gender', 'get_all_info', 'get_full_name', 'greeting_consider_gender', 'lname', 'mname', 'not_allowed_names', 'remove_user', 'users_num']\n"
     ]
    }
   ],
   "source": [
    "# lets see the content of our Object or Instance\n",
    "print(dir(member_one))"
   ]
  },
  {
   "cell_type": "code",
   "execution_count": 15,
   "id": "f22bfc4d-2f60-44c5-9352-688c99cbf9e6",
   "metadata": {},
   "outputs": [
    {
     "name": "stdout",
     "output_type": "stream",
     "text": [
      "['__class__', '__delattr__', '__dict__', '__dir__', '__doc__', '__eq__', '__format__', '__ge__', '__getattribute__', '__getstate__', '__gt__', '__hash__', '__init__', '__init_subclass__', '__le__', '__lt__', '__module__', '__ne__', '__new__', '__reduce__', '__reduce_ex__', '__repr__', '__setattr__', '__sizeof__', '__str__', '__subclasshook__', '__weakref__', 'get_all_info', 'get_full_name', 'greeting_consider_gender', 'not_allowed_names', 'users_num']\n"
     ]
    }
   ],
   "source": [
    "# lets see the content of our class \n",
    "print(dir(Member))"
   ]
  },
  {
   "cell_type": "markdown",
   "id": "6bff33b2-bc3b-4d60-b05b-8248ebfc8c12",
   "metadata": {},
   "source": [
    "---------------------------------------------------"
   ]
  },
  {
   "cell_type": "code",
   "execution_count": 27,
   "id": "8e9c2398-2b27-455a-87b4-2985a0c6c043",
   "metadata": {},
   "outputs": [],
   "source": [
    "# -------------------------------------------------------------------\n",
    "# -- Object Oriented Programming => Class Methods & Static Methods --\n",
    "# -------------------------------------------------------------------\n",
    "# Class Methods:\n",
    "# - Marked With @classmethod Decorator To Flag It As Class Method\n",
    "# - It Take Cls Parameter Not Self To Point To The Class not The Instance\n",
    "# - It Doesn't Require Creation of a Class Instance\n",
    "# - Used When You Want To Do Something With The Class Itself\n",
    "# Static Methods:\n",
    "# - It Takes No Parameters\n",
    "# - Its Bound To The Class Not Instance\n",
    "# - Used When Doing Something Doesnt Have Access To Object Or Class But Related To Class\n",
    "# -----------------------------------------------------------"
   ]
  },
  {
   "cell_type": "code",
   "execution_count": 39,
   "id": "bc4176e2-c099-4284-9bc7-b5eaa905f2a9",
   "metadata": {},
   "outputs": [
    {
     "name": "stdout",
     "output_type": "stream",
     "text": [
      "0\n",
      "4\n",
      "User Hell Is Removed.\n",
      "3\n",
      "********************************************************************************\n",
      "We Have 3 Users In Our System\n",
      "Hello From Static Method\n"
     ]
    }
   ],
   "source": [
    "class Member:\n",
    "    \n",
    "    not_allowed_names = [\"Hell\", \"Shit\", \"Baloot\"]\n",
    "\n",
    "    users_num = 0\n",
    "\n",
    "    # Design class method\n",
    "    @classmethod\n",
    "    def show_users_cnt(cls):\n",
    "        print(f'We Have {cls.users_num} Users In Our System')  \n",
    "\n",
    "    # Design static method = موجوده علشان تعمل وظيفه ثابته \n",
    "    @staticmethod\n",
    "    def say_hello():\n",
    "        print('Hello From Static Method')\n",
    "        \n",
    "    def __init__ (self, first_name, middle_name, last_name,gender):\n",
    "        # Instance Attrs\n",
    "        self.fname = first_name \n",
    "        self.mname = middle_name\n",
    "        self.lname = last_name\n",
    "        self.gender = gender\n",
    "\n",
    "        # Every time you create object aamake users num inc by one\n",
    "        Member.users_num += 1\n",
    "\n",
    "    def get_full_name(self):\n",
    "        # to access class attrs we should \n",
    "        if self.fname not in Member.not_allowed_names:\n",
    "            return f'{self.fname} {self.mname} {self.lname}'\n",
    "        else:\n",
    "            raise ValueError('Name Not Allowed')\n",
    "\n",
    "    def greeting_consider_gender(self):\n",
    "        if self.gender == 'Male':\n",
    "            return f'Hello Mr.{self.fname}'\n",
    "        elif self.gender == 'Female':\n",
    "            return f'Hello Mrs.{self.fname}'\n",
    "        else:\n",
    "            return f'Hello {self.fname}'\n",
    "\n",
    "    # Instance Method Access Instance attrs and methods\n",
    "    def get_all_info(self):\n",
    "      return f'{self.greeting_consider_gender()}, Your Full Name Is: {self.get_full_name()}'\n",
    "\n",
    "    def remove_user(self):\n",
    "        Member.users_num -= 1\n",
    "        return f'User {self.fname} Is Removed.'\n",
    "\n",
    "\n",
    "# No of users before\n",
    "print(Member.users_num)\n",
    "\n",
    "member_one = Member('Amr','Abdelaty','Fathallah', 'Male')\n",
    "member_two = Member('ALI','Ahmed','Mohamed', 'Male')\n",
    "member_three = Member('JETT','abdel8afour','el bora3y', 'Female')\n",
    "member_four = Member('Hell','Shit','el bora3y', 'Male')\n",
    "\n",
    "print(Member.users_num)\n",
    "\n",
    "# print(member_three.get_full_name())\n",
    "# print(member_three.greeting_consider_gender())\n",
    "# print(member_three.get_all_info())\n",
    "# print(member_four.get_all_info())\n",
    "print(member_four.remove_user())\n",
    "\n",
    "print(Member.users_num)\n",
    "\n",
    "print('*' * 80)\n",
    "\n",
    "Member.show_users_cnt()\n",
    "Member.say_hello()"
   ]
  },
  {
   "cell_type": "code",
   "execution_count": 37,
   "id": "bed56108-9660-406c-9508-d29c118e7d21",
   "metadata": {},
   "outputs": [
    {
     "name": "stdout",
     "output_type": "stream",
     "text": [
      "Amr Abdelaty Fathallah\n",
      "Amr Abdelaty Fathallah\n"
     ]
    }
   ],
   "source": [
    "# when i need method to apply on my object == what i do\n",
    "print(member_one.get_full_name())\n",
    "\n",
    "# what actually python do in background == what python do in background\n",
    "print(Member.get_full_name(member_one))"
   ]
  }
 ],
 "metadata": {
  "kernelspec": {
   "display_name": "Python 3 (ipykernel)",
   "language": "python",
   "name": "python3"
  },
  "language_info": {
   "codemirror_mode": {
    "name": "ipython",
    "version": 3
   },
   "file_extension": ".py",
   "mimetype": "text/x-python",
   "name": "python",
   "nbconvert_exporter": "python",
   "pygments_lexer": "ipython3",
   "version": "3.11.7"
  }
 },
 "nbformat": 4,
 "nbformat_minor": 5
}
