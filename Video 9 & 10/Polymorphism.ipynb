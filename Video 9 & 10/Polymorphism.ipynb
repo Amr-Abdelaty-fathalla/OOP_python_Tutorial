{
 "cells": [
  {
   "cell_type": "code",
   "execution_count": 2,
   "id": "74528f8d-d487-4134-8ea5-dfb8a569a239",
   "metadata": {},
   "outputs": [],
   "source": [
    "# ---------------------------------------------------------\n",
    "# -- Object Oriented Programming => Polymorphism --تعدد الاوجه\n",
    "# ---------------------------------------------------------"
   ]
  },
  {
   "cell_type": "code",
   "execution_count": 9,
   "id": "b861ed67-c38f-4420-97a4-018eb4dae402",
   "metadata": {},
   "outputs": [
    {
     "name": "stdout",
     "output_type": "stream",
     "text": [
      "30\n",
      "Hello Python\n",
      "************************************************************\n",
      "6\n",
      "12\n",
      "2\n"
     ]
    }
   ],
   "source": [
    "# same methods do different job or task\n",
    "# Example: same plus operator but do more than one job based on different datatype\n",
    "n1 = 10\n",
    "n2 = 20\n",
    "\n",
    "print(n1 + n2)\n",
    "\n",
    "s1 = 'Hello'\n",
    "s2 = 'Python'\n",
    "\n",
    "print(s1 + ' ' + s2)\n",
    "\n",
    "print('*' * 60)\n",
    "\n",
    "# Another Example len() function\n",
    "print(len([1, 2, 3, 4, 5, 6]))\n",
    "print(len('Amr Abdelaty'))\n",
    "print(len({'key_one': 1, 'key_two':2}))"
   ]
  },
  {
   "cell_type": "code",
   "execution_count": 11,
   "id": "484ed93f-379f-4979-b0dc-1a02632c39d3",
   "metadata": {},
   "outputs": [
    {
     "name": "stdout",
     "output_type": "stream",
     "text": [
      "From Class A\n"
     ]
    }
   ],
   "source": [
    "class A:\n",
    "    def do_something(self):\n",
    "        print('From Class A')\n",
    "\n",
    "class B(A):\n",
    "    pass\n",
    "\n",
    "my_instance = B()\n",
    "my_instance.do_something()"
   ]
  },
  {
   "cell_type": "code",
   "execution_count": 13,
   "id": "142e6202-889c-419a-ab85-0b316943e5d1",
   "metadata": {},
   "outputs": [
    {
     "name": "stdout",
     "output_type": "stream",
     "text": [
      "From Class B\n"
     ]
    }
   ],
   "source": [
    "# Method Override\n",
    "class A:\n",
    "    def do_something(self):\n",
    "        print('From Class A')\n",
    "\n",
    "class B(A):\n",
    "    def do_something(self):\n",
    "        print('From Class B')\n",
    "\n",
    "my_instance = B()\n",
    "my_instance.do_something()"
   ]
  },
  {
   "cell_type": "code",
   "execution_count": 21,
   "id": "fef53057-9186-4dbc-a9f3-7979064a3f8d",
   "metadata": {},
   "outputs": [
    {
     "name": "stdout",
     "output_type": "stream",
     "text": [
      "From Class C\n",
      "From Class A\n"
     ]
    },
    {
     "ename": "NotImplementedError",
     "evalue": "Derived Class Must Implement This Method",
     "output_type": "error",
     "traceback": [
      "\u001b[1;31m---------------------------------------------------------------------------\u001b[0m",
      "\u001b[1;31mNotImplementedError\u001b[0m                       Traceback (most recent call last)",
      "Cell \u001b[1;32mIn[21], line 19\u001b[0m\n\u001b[0;32m     16\u001b[0m my_ins\u001b[38;5;241m.\u001b[39mdo_something()\n\u001b[0;32m     18\u001b[0m my_ins2 \u001b[38;5;241m=\u001b[39m B()\n\u001b[1;32m---> 19\u001b[0m my_ins2\u001b[38;5;241m.\u001b[39mdo_something()\n",
      "Cell \u001b[1;32mIn[21], line 6\u001b[0m, in \u001b[0;36mA.do_something\u001b[1;34m(self)\u001b[0m\n\u001b[0;32m      4\u001b[0m \u001b[38;5;28mprint\u001b[39m(\u001b[38;5;124m'\u001b[39m\u001b[38;5;124mFrom Class A\u001b[39m\u001b[38;5;124m'\u001b[39m)\n\u001b[0;32m      5\u001b[0m \u001b[38;5;66;03m# this mean this method not implemented in derived classes\u001b[39;00m\n\u001b[1;32m----> 6\u001b[0m \u001b[38;5;28;01mraise\u001b[39;00m \u001b[38;5;167;01mNotImplementedError\u001b[39;00m(\u001b[38;5;124m'\u001b[39m\u001b[38;5;124mDerived Class Must Implement This Method\u001b[39m\u001b[38;5;124m'\u001b[39m)\n",
      "\u001b[1;31mNotImplementedError\u001b[0m: Derived Class Must Implement This Method"
     ]
    }
   ],
   "source": [
    "# to make derived classes must override on method in parent class\n",
    "class A:\n",
    "    def do_something(self):\n",
    "        print('From Class A')\n",
    "        # this mean this method not implemented in derived classes\n",
    "        raise NotImplementedError('Derived Class Must Implement This Method')\n",
    "\n",
    "class B(A):\n",
    "    pass\n",
    "\n",
    "class C(A):\n",
    "    def do_something(self):\n",
    "        print('From Class C')\n",
    "\n",
    "my_ins = C()\n",
    "my_ins.do_something()\n",
    "\n",
    "my_ins2 = B()\n",
    "my_ins2.do_something()"
   ]
  }
 ],
 "metadata": {
  "kernelspec": {
   "display_name": "Python 3 (ipykernel)",
   "language": "python",
   "name": "python3"
  },
  "language_info": {
   "codemirror_mode": {
    "name": "ipython",
    "version": 3
   },
   "file_extension": ".py",
   "mimetype": "text/x-python",
   "name": "python",
   "nbconvert_exporter": "python",
   "pygments_lexer": "ipython3",
   "version": "3.11.7"
  }
 },
 "nbformat": 4,
 "nbformat_minor": 5
}
