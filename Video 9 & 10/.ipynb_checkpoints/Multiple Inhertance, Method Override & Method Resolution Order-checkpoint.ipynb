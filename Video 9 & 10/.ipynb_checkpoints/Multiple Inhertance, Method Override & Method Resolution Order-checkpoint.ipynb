{
 "cells": [
  {
   "cell_type": "markdown",
   "id": "76652f30-4b76-43e5-8de5-13d586d4188e",
   "metadata": {},
   "source": [
    "### **Method Override**"
   ]
  },
  {
   "cell_type": "code",
   "execution_count": 4,
   "id": "75280eb7-06fc-4b58-a768-fe0d2f8ae3d3",
   "metadata": {},
   "outputs": [
    {
     "name": "stdout",
     "output_type": "stream",
     "text": [
      "Pizza Is Created From Base Class\n",
      "Pizza Is Created From Derived Class And Price Is 200 And Amount Is 50\n",
      "Eat Method From Derived Class\n",
      "Get From Tree From Derived Class\n"
     ]
    }
   ],
   "source": [
    "# Base Class\n",
    "class Food:\n",
    "    def __init__(self, name, price):\n",
    "        self.name = name\n",
    "        self.price = price\n",
    "        print(f'{self.name} Is Created From Base Class')\n",
    "\n",
    "    def eat(self):\n",
    "        print('Eat Method From Base Class')\n",
    "\n",
    "# Derived Class\n",
    "class Apple(Food):\n",
    "     def __init__(self, name, price, amount):\n",
    "         Food.__init__(self, name, price)\n",
    "         self.amount = amount\n",
    "         print(f'{self.name} Is Created From Derived Class And Price Is {self.price} And Amount Is {self.amount}')\n",
    "\n",
    "     def get_from_tree(self):\n",
    "         print('Get From Tree From Derived Class')\n",
    "\n",
    "     # Method Override\n",
    "     def eat(self):\n",
    "        print('Eat Method From Derived Class')\n",
    "        \n",
    "food_two = Apple('Pizza', 200, 50)\n",
    "food_two.eat()\n",
    "food_two.get_from_tree()"
   ]
  },
  {
   "cell_type": "markdown",
   "id": "63a07605-e832-4704-bca8-2c5c2cc1749a",
   "metadata": {},
   "source": [
    "### **Multiple Inhertance & Method Resolution order**"
   ]
  },
  {
   "cell_type": "code",
   "execution_count": 5,
   "id": "95628275-6347-4dad-9a31-bd0f048d973b",
   "metadata": {},
   "outputs": [],
   "source": [
    "# ---------------------------------------------------------\n",
    "# -- Object Oriented Programming => Multiple Inheritance --\n",
    "# ---------------------------------------------------------"
   ]
  },
  {
   "cell_type": "code",
   "execution_count": 13,
   "id": "442a1fda-7f33-4e30-aa9c-e21410f24da9",
   "metadata": {},
   "outputs": [
    {
     "name": "stdout",
     "output_type": "stream",
     "text": [
      "Base One\n",
      "One\n",
      "Two\n"
     ]
    }
   ],
   "source": [
    "class BaseOne:\n",
    "    def __init__(self):\n",
    "        print('Base One')\n",
    "\n",
    "    def func_one(self):\n",
    "        print('One')\n",
    "        \n",
    "class BaseTwo:\n",
    "    def __init__(self):\n",
    "        print('Base Two')\n",
    "\n",
    "    def func_two(self):\n",
    "        print('Two')\n",
    "\n",
    "class Derived(BaseOne, BaseTwo):\n",
    "    pass\n",
    "\n",
    "## why Base one printed not Base two , because MRO method make priority for class BaseOne based on Derived(BaseOne, BaseTwo)\n",
    "my_var = Derived()\n",
    "my_var.func_one()\n",
    "my_var.func_two()"
   ]
  },
  {
   "cell_type": "code",
   "execution_count": 12,
   "id": "984000f6-8561-4ded-9b90-9d90248db8fb",
   "metadata": {},
   "outputs": [
    {
     "name": "stdout",
     "output_type": "stream",
     "text": [
      "[<class '__main__.Derived'>, <class '__main__.BaseOne'>, <class '__main__.BaseTwo'>, <class 'object'>]\n"
     ]
    }
   ],
   "source": [
    "## to know order of priority\n",
    "print(Derived.mro())"
   ]
  },
  {
   "cell_type": "markdown",
   "id": "c65bb943-459c-45bc-8a80-634ee79a95dd",
   "metadata": {},
   "source": [
    "### **Multi level Inhertance**"
   ]
  },
  {
   "cell_type": "code",
   "execution_count": 14,
   "id": "97c7a30a-d230-4fc2-bd6c-75dbd883980f",
   "metadata": {},
   "outputs": [],
   "source": [
    "class Base:\n",
    "    pass\n",
    "\n",
    "class DerivedOne(Base):\n",
    "    pass\n",
    "\n",
    "class DerivedTwo(DerivedOne):\n",
    "    pass"
   ]
  }
 ],
 "metadata": {
  "kernelspec": {
   "display_name": "Python 3 (ipykernel)",
   "language": "python",
   "name": "python3"
  },
  "language_info": {
   "codemirror_mode": {
    "name": "ipython",
    "version": 3
   },
   "file_extension": ".py",
   "mimetype": "text/x-python",
   "name": "python",
   "nbconvert_exporter": "python",
   "pygments_lexer": "ipython3",
   "version": "3.11.7"
  }
 },
 "nbformat": 4,
 "nbformat_minor": 5
}
