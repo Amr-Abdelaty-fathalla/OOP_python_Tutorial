{
 "cells": [
  {
   "cell_type": "code",
   "execution_count": 1,
   "id": "2a70e25f-0262-4eba-9b65-8e4c03115d22",
   "metadata": {},
   "outputs": [],
   "source": [
    "# ----------------------------------------------------------------\n",
    "# -- Object Oriented Programming => ABCs => Abstract Base Class --\n",
    "# ----------------------------------------------------------------\n",
    "# - Class Called Abstract Class If it Has One or More Abstract Methods\n",
    "# - abc module in Python Provides Infrastructure for Defining Custom Abstract Base Classes.\n",
    "# - By Adding @absttractmethod Decorator on The Methods\n",
    "# - ABCMeta Class Is a Metaclass Used For Defining Abstract Base Class\n",
    "# --------------------------------------------------------------------"
   ]
  },
  {
   "cell_type": "code",
   "execution_count": 2,
   "id": "b0743a44-b9b3-4b1b-910b-040f7e74e01f",
   "metadata": {},
   "outputs": [
    {
     "name": "stdout",
     "output_type": "stream",
     "text": [
      "Yes\n"
     ]
    }
   ],
   "source": [
    "# Check if the programming language has oop or not\n",
    "''' Note: thats not reasonable to say if programming has oop or not, we say that\n",
    "          to programming languages not programming in general'''\n",
    "# انا عايز اعمل كلاس مجرد علشان باقي الكلاسات تمشي علي نفس معاير الكلاس ده و يمعل الي فيه\n",
    "''' Base: becasue it has pattern, abstract: because this pattern in this class has no functionality\n",
    "but this pattern has functionalities in inherted class '''\n",
    "\n",
    "class Programming:\n",
    "    def has_oop(self):\n",
    "        return 'Yes'\n",
    "\n",
    "class Python(Programming):\n",
    "    def has_oop(self):\n",
    "        return 'Yes'\n",
    "\n",
    "class Pascal(Programming):\n",
    "    def has_oop(self):\n",
    "        return 'No'\n",
    "\n",
    "one = Programming()\n",
    "print(one.has_oop())"
   ]
  },
  {
   "cell_type": "code",
   "execution_count": 3,
   "id": "bb03e7b5-32f0-4e43-a7ea-fc706312a01c",
   "metadata": {},
   "outputs": [
    {
     "name": "stdout",
     "output_type": "stream",
     "text": [
      "Yes\n"
     ]
    },
    {
     "ename": "TypeError",
     "evalue": "Can't instantiate abstract class Programming with abstract method has_oop",
     "output_type": "error",
     "traceback": [
      "\u001b[1;31m---------------------------------------------------------------------------\u001b[0m",
      "\u001b[1;31mTypeError\u001b[0m                                 Traceback (most recent call last)",
      "Cell \u001b[1;32mIn[3], line 18\u001b[0m\n\u001b[0;32m     16\u001b[0m two \u001b[38;5;241m=\u001b[39m Python()\n\u001b[0;32m     17\u001b[0m \u001b[38;5;28mprint\u001b[39m(two\u001b[38;5;241m.\u001b[39mhas_oop())\n\u001b[1;32m---> 18\u001b[0m three \u001b[38;5;241m=\u001b[39m Programming()\n\u001b[0;32m     19\u001b[0m \u001b[38;5;28mprint\u001b[39m(three\u001b[38;5;241m.\u001b[39mhas_oop())\n",
      "\u001b[1;31mTypeError\u001b[0m: Can't instantiate abstract class Programming with abstract method has_oop"
     ]
    }
   ],
   "source": [
    "# We can't take object from Abstract class\n",
    "from abc import ABCMeta, abstractmethod\n",
    "class Programming(metaclass = ABCMeta):\n",
    "    @abstractmethod\n",
    "    def has_oop(self):\n",
    "        pass\n",
    "\n",
    "class Python(Programming):\n",
    "    def has_oop(self):\n",
    "        return 'Yes'\n",
    "        \n",
    "class Pascal(Programming):\n",
    "    def has_oop(self):\n",
    "        return 'No'\n",
    "\n",
    "two = Python()\n",
    "print(two.has_oop())\n",
    "three = Programming()\n",
    "print(three.has_oop())"
   ]
  },
  {
   "cell_type": "code",
   "execution_count": 5,
   "id": "5621de15-47af-44dd-a80c-a61e904b631b",
   "metadata": {},
   "outputs": [
    {
     "ename": "TypeError",
     "evalue": "Can't instantiate abstract class Pascal with abstract method has_oop",
     "output_type": "error",
     "traceback": [
      "\u001b[1;31m---------------------------------------------------------------------------\u001b[0m",
      "\u001b[1;31mTypeError\u001b[0m                                 Traceback (most recent call last)",
      "Cell \u001b[1;32mIn[5], line 20\u001b[0m\n\u001b[0;32m     17\u001b[0m \u001b[38;5;28;01mclass\u001b[39;00m \u001b[38;5;21;01mPascal\u001b[39;00m(Programming):\n\u001b[0;32m     18\u001b[0m     \u001b[38;5;28;01mpass\u001b[39;00m\n\u001b[1;32m---> 20\u001b[0m four \u001b[38;5;241m=\u001b[39m Pascal()\n\u001b[0;32m     21\u001b[0m \u001b[38;5;28mprint\u001b[39m(four\u001b[38;5;241m.\u001b[39mhas_oop())\n",
      "\u001b[1;31mTypeError\u001b[0m: Can't instantiate abstract class Pascal with abstract method has_oop"
     ]
    }
   ],
   "source": [
    "''' Note: when we don't use method inside inhereted class or we don't follow the pattern,\n",
    "          what happened is inheret class like pascal, inhereted abstract method \n",
    "          in it and we say if class contain abstract method that mean our class will be abstracted\n",
    "          also becasue we didn't override on abstract method, so we got type error \n",
    "          that we Can't instantiate abstract class Pascal with abstract method has_oop, \n",
    "          summary: abstracted method has_oop make our pascal class to be abstract class'''\n",
    "from abc import ABCMeta, abstractmethod\n",
    "class Programming(metaclass = ABCMeta):\n",
    "    @abstractmethod\n",
    "    def has_oop(self):\n",
    "        pass\n",
    "\n",
    "class Python(Programming):\n",
    "    def has_oop(self):\n",
    "        return 'Yes'\n",
    "        \n",
    "class Pascal(Programming):\n",
    "    pass\n",
    "\n",
    "four = Pascal()\n",
    "print(four.has_oop())"
   ]
  },
  {
   "cell_type": "code",
   "execution_count": 7,
   "id": "bee6ddee-d859-4779-8d5d-74927b9d80fb",
   "metadata": {},
   "outputs": [
    {
     "name": "stdout",
     "output_type": "stream",
     "text": [
      "Yes\n"
     ]
    }
   ],
   "source": [
    "# if method in Base class not abstracted we can to make override on it in inhereted class\n",
    "# But abstract method as we say we must override on it in inhereted class\n",
    "from abc import ABCMeta, abstractmethod\n",
    "class Programming(metaclass = ABCMeta):\n",
    "    @abstractmethod\n",
    "    def has_oop(self):\n",
    "        pass\n",
    "\n",
    "    def has_name(self):\n",
    "        pass\n",
    "\n",
    "class Python(Programming):\n",
    "    def has_oop(self):\n",
    "        return 'Yes'\n",
    "        \n",
    "class Pascal(Programming):\n",
    "    def has_oop(self):\n",
    "        return 'No'\n",
    "\n",
    "five = Python()\n",
    "print(five.has_oop())"
   ]
  },
  {
   "cell_type": "code",
   "execution_count": null,
   "id": "d113fa4d-e9df-4b42-8f30-2e06ed5829e8",
   "metadata": {},
   "outputs": [],
   "source": []
  }
 ],
 "metadata": {
  "kernelspec": {
   "display_name": "Python 3 (ipykernel)",
   "language": "python",
   "name": "python3"
  },
  "language_info": {
   "codemirror_mode": {
    "name": "ipython",
    "version": 3
   },
   "file_extension": ".py",
   "mimetype": "text/x-python",
   "name": "python",
   "nbconvert_exporter": "python",
   "pygments_lexer": "ipython3",
   "version": "3.11.7"
  }
 },
 "nbformat": 4,
 "nbformat_minor": 5
}
