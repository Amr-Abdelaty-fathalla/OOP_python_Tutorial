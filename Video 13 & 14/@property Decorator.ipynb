{
 "cells": [
  {
   "cell_type": "code",
   "execution_count": 1,
   "id": "d330d9d4-f237-4b01-8574-3dfd17208f92",
   "metadata": {},
   "outputs": [],
   "source": [
    "# --------------------------------------------------------\n",
    "# -- Object Oriented Programming => @Property Decorator --\n",
    "# --------------------------------------------------------"
   ]
  },
  {
   "cell_type": "code",
   "execution_count": 7,
   "id": "786be437-eb66-4af0-8573-ac26777e8db0",
   "metadata": {},
   "outputs": [
    {
     "name": "stdout",
     "output_type": "stream",
     "text": [
      "Amr\n",
      "23\n",
      "Hello Amr\n",
      "8395\n",
      "<bound method Member.age_in_days of <__main__.Member object at 0x0000017674ED13D0>>\n"
     ]
    }
   ],
   "source": [
    "class Member:\n",
    "\n",
    "    def __init__(self, name, age):\n",
    "\n",
    "        self.name = name\n",
    "\n",
    "        self.age = age\n",
    "\n",
    "    def say_hello(self):\n",
    "\n",
    "        return f'Hello {self.name}'\n",
    "\n",
    "    def age_in_days(self):\n",
    "\n",
    "        return self.age * 365\n",
    "\n",
    "one = Member('Amr',23)\n",
    "\n",
    "print(one.name)\n",
    "print(one.age)\n",
    "print(one.say_hello())\n",
    "print(one.age_in_days())\n",
    "\n",
    "# Question : What happen if i write obj.method like obj.attr?\n",
    "# Ans ==> it will tell me it is method in class member called age_in_days\n",
    "print(one.age_in_days)"
   ]
  },
  {
   "cell_type": "code",
   "execution_count": 11,
   "id": "05f40711-4c62-4fd1-b708-9d3a48309c79",
   "metadata": {},
   "outputs": [
    {
     "name": "stdout",
     "output_type": "stream",
     "text": [
      "Ali\n",
      "30\n",
      "Hello Ali\n",
      "10950\n"
     ]
    },
    {
     "ename": "TypeError",
     "evalue": "'int' object is not callable",
     "output_type": "error",
     "traceback": [
      "\u001b[1;31m---------------------------------------------------------------------------\u001b[0m",
      "\u001b[1;31mTypeError\u001b[0m                                 Traceback (most recent call last)",
      "Cell \u001b[1;32mIn[11], line 27\u001b[0m\n\u001b[0;32m     25\u001b[0m \u001b[38;5;28mprint\u001b[39m(two\u001b[38;5;241m.\u001b[39msay_hello())\n\u001b[0;32m     26\u001b[0m \u001b[38;5;28mprint\u001b[39m(two\u001b[38;5;241m.\u001b[39mage_in_days)\n\u001b[1;32m---> 27\u001b[0m \u001b[38;5;28mprint\u001b[39m(two\u001b[38;5;241m.\u001b[39mage_in_days())\n",
      "\u001b[1;31mTypeError\u001b[0m: 'int' object is not callable"
     ]
    }
   ],
   "source": [
    "''' if u have method doesn't take any paramter except self and doesn't do action\n",
    "    you can treat it like property\n",
    "'''\n",
    "class Member:\n",
    "\n",
    "    def __init__(self, name, age):\n",
    "\n",
    "        self.name = name\n",
    "\n",
    "        self.age = age\n",
    "\n",
    "    def say_hello(self):\n",
    "\n",
    "        return f'Hello {self.name}'\n",
    "\n",
    "    @property\n",
    "    def age_in_days(self):\n",
    "\n",
    "        return self.age * 365\n",
    "\n",
    "two = Member('Ali',30)\n",
    "\n",
    "print(two.name)\n",
    "print(two.age)\n",
    "print(two.say_hello())\n",
    "print(two.age_in_days)\n",
    "print(two.age_in_days())\n"
   ]
  }
 ],
 "metadata": {
  "kernelspec": {
   "display_name": "Python 3 (ipykernel)",
   "language": "python",
   "name": "python3"
  },
  "language_info": {
   "codemirror_mode": {
    "name": "ipython",
    "version": 3
   },
   "file_extension": ".py",
   "mimetype": "text/x-python",
   "name": "python",
   "nbconvert_exporter": "python",
   "pygments_lexer": "ipython3",
   "version": "3.11.7"
  }
 },
 "nbformat": 4,
 "nbformat_minor": 5
}
