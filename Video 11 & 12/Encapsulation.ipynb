{
 "cells": [
  {
   "cell_type": "code",
   "execution_count": 1,
   "id": "0e51fd92-2b93-482a-b3de-5cc209bf91bb",
   "metadata": {},
   "outputs": [],
   "source": [
    "# --------------------------------------------------\n",
    "# -- Object Oriented Programming => Encapsulation --\n",
    "# --------------------------------------------------\n",
    "# Encapsulation\n",
    "# - Restrict Access To The Data Stored in Attirbutes and Methods\n",
    "# في تلت حالات من ظهور البيانات عندنا\n",
    "# Public\n",
    "# - Every Attribute and Method That We Used So Far Is Public\n",
    "# - Attributes and Methods Can Be Modified and Run From Everywhere\n",
    "# - Inside Our Outside The Class\n",
    "# Protected\n",
    "# - Attributes and Methods Can Be Accessed From Within The Class And Sub Classes\n",
    "# - Attributes and Methods Prefixed With One Underscore _\n",
    "# Private\n",
    "# - Attributes and Methods Can Be Accessed From Within The Class Or Object Only\n",
    "# - Attributes Cannot Be Modified From Outside The Class\n",
    "# - Attributes and Methods Prefixed With Two Underscores __\n",
    "# ---------------------------------------------------------\n",
    "# - Attributes = Variables = Properties\n",
    "# -------------------------------------"
   ]
  },
  {
   "cell_type": "code",
   "execution_count": 2,
   "id": "940adf21-a8cd-414a-81bb-e0401c28192b",
   "metadata": {},
   "outputs": [],
   "source": [
    "# Public Case\n",
    "class Member:\n",
    "\n",
    "    def __init__(self, name):\n",
    "        self.name = name\n",
    "\n",
    "\n",
    "# Run From Everywhere\n",
    "one = Member('Amr')\n",
    "\n",
    "print(one.name)\n",
    "\n",
    "# Can Be Modified\n",
    "one.name = 'Ahmed'\n",
    "\n",
    "print(one.name)"
   ]
  },
  {
   "cell_type": "code",
   "execution_count": 7,
   "id": "da113f15-2b82-4204-9102-c17a2e002d14",
   "metadata": {},
   "outputs": [
    {
     "name": "stdout",
     "output_type": "stream",
     "text": [
      "alaa\n",
      "ali\n"
     ]
    }
   ],
   "source": [
    "# Protected Case\n",
    "'''Note: if you write one. the attrs and methods doesn't appear beacuse they are protected, \n",
    "but unfortunately if you write attr on your own you can access it and print it but \n",
    "that in python only'''\n",
    "class Member:\n",
    "    def __init__(self, name):\n",
    "        self._name = name\n",
    "\n",
    "# Run From Everywhere\n",
    "one = Member('alaa')\n",
    "\n",
    "print(one._name)\n",
    "\n",
    "# Can Be Modified\n",
    "one._name = 'ali'\n",
    "\n",
    "print(one._name)"
   ]
  },
  {
   "cell_type": "code",
   "execution_count": 15,
   "id": "7061ecfd-c56b-450a-b70a-592e3ed24168",
   "metadata": {},
   "outputs": [
    {
     "ename": "AttributeError",
     "evalue": "'Member' object has no attribute '__name'",
     "output_type": "error",
     "traceback": [
      "\u001b[1;31m---------------------------------------------------------------------------\u001b[0m",
      "\u001b[1;31mAttributeError\u001b[0m                            Traceback (most recent call last)",
      "Cell \u001b[1;32mIn[15], line 10\u001b[0m\n\u001b[0;32m      6\u001b[0m         \u001b[38;5;28mself\u001b[39m\u001b[38;5;241m.\u001b[39m__name \u001b[38;5;241m=\u001b[39m name\n\u001b[0;32m      8\u001b[0m two \u001b[38;5;241m=\u001b[39m Member(\u001b[38;5;124m'\u001b[39m\u001b[38;5;124mkarim\u001b[39m\u001b[38;5;124m'\u001b[39m)\n\u001b[1;32m---> 10\u001b[0m \u001b[38;5;28mprint\u001b[39m(two\u001b[38;5;241m.\u001b[39m__name)\n",
      "\u001b[1;31mAttributeError\u001b[0m: 'Member' object has no attribute '__name'"
     ]
    }
   ],
   "source": [
    "# Private Case\n",
    "''' Note: we can't access or modify attrs using object, we can only access attr from inside class itself,\n",
    "    and for methods we can access or modify it from obj and class'''\n",
    "class Member:\n",
    "    def __init__(self, name):\n",
    "        self.__name = name\n",
    "\n",
    "two = Member('karim')\n",
    "\n",
    "print(two.__name)"
   ]
  },
  {
   "cell_type": "code",
   "execution_count": 13,
   "id": "9076563b-5c94-4a27-8c79-7ce8c7b0473a",
   "metadata": {},
   "outputs": [
    {
     "name": "stdout",
     "output_type": "stream",
     "text": [
      "Hello karim\n"
     ]
    }
   ],
   "source": [
    "# Private Case\n",
    "# Access private attr from inside class\n",
    "class Member:\n",
    "    def __init__(self,name):\n",
    "        self.__name = name\n",
    "\n",
    "    def say_hello(self):\n",
    "        return f'Hello {self.__name}'\n",
    "\n",
    "two = Member('karim')\n",
    "\n",
    "print(two.say_hello())"
   ]
  },
  {
   "cell_type": "code",
   "execution_count": 17,
   "id": "2130fe6c-acca-4a1f-ac93-498d2ee06df5",
   "metadata": {},
   "outputs": [
    {
     "name": "stdout",
     "output_type": "stream",
     "text": [
      "karim\n"
     ]
    }
   ],
   "source": [
    "''' Notes:\n",
    "1) You can inheret member can and can access private attrs from say_hello method\n",
    "2) In Python you can access also private attr from outside class\n",
    "3) Actually there is no Restriction in python, but we make _ for protected and __ private to make developer know this protected or private attr and treat it like this in code he develop it'''\n",
    "print(two._Member__name)"
   ]
  }
 ],
 "metadata": {
  "kernelspec": {
   "display_name": "Python 3 (ipykernel)",
   "language": "python",
   "name": "python3"
  },
  "language_info": {
   "codemirror_mode": {
    "name": "ipython",
    "version": 3
   },
   "file_extension": ".py",
   "mimetype": "text/x-python",
   "name": "python",
   "nbconvert_exporter": "python",
   "pygments_lexer": "ipython3",
   "version": "3.11.7"
  }
 },
 "nbformat": 4,
 "nbformat_minor": 5
}
