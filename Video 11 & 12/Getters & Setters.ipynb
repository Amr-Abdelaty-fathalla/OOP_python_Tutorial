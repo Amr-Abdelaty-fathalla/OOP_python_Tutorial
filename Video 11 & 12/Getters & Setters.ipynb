{
 "cells": [
  {
   "cell_type": "code",
   "execution_count": 1,
   "id": "360e3ded-be56-42c4-8769-73410f3c9756",
   "metadata": {},
   "outputs": [],
   "source": [
    "# ------------------------------------------------------\n",
    "# -- Object Oriented Programming => Getters & Setters --\n",
    "# ------------------------------------------------------"
   ]
  },
  {
   "cell_type": "code",
   "execution_count": 3,
   "id": "1367b566-6ae0-4f7d-9bf8-d522429c67ed",
   "metadata": {},
   "outputs": [],
   "source": [
    "# Get = بتجيب بيانات معينه\n",
    "# Set = بتعمل سيت لبيانات معينه بتخليها لبانات جديده او نفس البيانات واي كان\n",
    "# get and set methods = اتعملوا علشان تاكسس او تغير ال private propety "
   ]
  },
  {
   "cell_type": "code",
   "execution_count": 13,
   "id": "9466f057-4a33-4037-8eca-2750e5b30d79",
   "metadata": {},
   "outputs": [
    {
     "name": "stdout",
     "output_type": "stream",
     "text": [
      "Amr\n",
      "Al Mentor\n"
     ]
    }
   ],
   "source": [
    "class Member:\n",
    "\n",
    "    def __init__(self, name):\n",
    "        self.__name = name    #private\n",
    "\n",
    "    def say_hello(self):\n",
    "        return f'Hello {self.__name}'\n",
    "\n",
    "    # Getter = Method to get the name to get data in private attr\n",
    "    def get_name(self):\n",
    "        return self.__name\n",
    "\n",
    "    # Setter = Method to edit the data in the name attr\n",
    "    def set_name(self, new_name):\n",
    "        self.__name = new_name\n",
    "\n",
    "one = Member('Amr')\n",
    "\n",
    "print(one.get_name())\n",
    "one.set_name('Al Mentor')\n",
    "print(one.get_name())"
   ]
  }
 ],
 "metadata": {
  "kernelspec": {
   "display_name": "Python 3 (ipykernel)",
   "language": "python",
   "name": "python3"
  },
  "language_info": {
   "codemirror_mode": {
    "name": "ipython",
    "version": 3
   },
   "file_extension": ".py",
   "mimetype": "text/x-python",
   "name": "python",
   "nbconvert_exporter": "python",
   "pygments_lexer": "ipython3",
   "version": "3.11.7"
  }
 },
 "nbformat": 4,
 "nbformat_minor": 5
}
